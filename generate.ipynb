{
 "cells": [
  {
   "cell_type": "code",
   "execution_count": 1,
   "metadata": {},
   "outputs": [],
   "source": [
    "from PIL import Image \n",
    "from IPython.display import display \n",
    "import random\n",
    "import json"
   ]
  },
  {
   "cell_type": "code",
   "execution_count": 2,
   "metadata": {},
   "outputs": [],
   "source": [
    "\n",
    "# Each image is made up a series of traits\n",
    "# The weightings for each trait drive the rarity and add up to 100%\n",
    "\n",
    "background = [\"Blue\", \"Orange\", \"Purple\", \"Red\", \"Yellow\"] \n",
    "background_weights = [30, 40, 15, 5, 10]\n",
    "\n",
    "bodies = [\"Anasazi_Sweet\", \"Golden_Bantam\", \"Japanese_Black\", \"Teosinte\", \"Tesuque_Blue\"] \n",
    "body_weights = [30, 40, 15, 5, 10]\n",
    "\n",
    "heads = [\"Cowboy\", \"Mario\", \"Naruto\", \"Pilgrim\", \"StPatrick\"] \n",
    "head_weights = [30, 40, 15, 5, 10]\n",
    "\n",
    "# Dictionary variable for each trait. \n",
    "# Eech trait corresponds to its file name\n",
    "\n",
    "background_files = {\n",
    "    \"Blue\": \"blue\",\n",
    "    \"Orange\": \"orange\",\n",
    "    \"Purple\": \"purple\",\n",
    "    \"Red\": \"red\",\n",
    "    \"Yellow\": \"yellow\",\n",
    "}\n",
    "\n",
    "body_files = {\n",
    "    \"Anasazi_Sweet\": \"anasazi_sweet\",\n",
    "    \"Golden_Bantam\": \"golden_bantam\",\n",
    "    \"Japanese_Black\": \"japanese_black_sticky\",\n",
    "    \"Teosinte\": \"teosinte\",\n",
    "    \"Tesuque_Blue\": \"tesuque_blue\"   \n",
    "}\n",
    "\n",
    "head_files = {\n",
    "    \"Cowboy\": \"cowboy\",\n",
    "    \"Mario\": \"mario\",\n",
    "    \"Naruto\": \"naruto\",\n",
    "    \"Pilgrim\": \"pilgrim\",\n",
    "    \"StPatrick\": \"stpatrick\"  \n",
    "          \n",
    "}"
   ]
  },
  {
   "cell_type": "code",
   "execution_count": 3,
   "metadata": {},
   "outputs": [],
   "source": [
    "## Generate Traits\n",
    "\n",
    "TOTAL_IMAGES = 30 # Number of random unique images we want to generate\n",
    "\n",
    "all_images = [] \n",
    "\n",
    "# A recursive function to generate unique image combinations\n",
    "def create_new_image():\n",
    "    \n",
    "    new_image = {} #\n",
    "\n",
    "    # For each trait category, select a random trait based on the weightings \n",
    "    new_image [\"Background\"] = random.choices(background, background_weights)[0]\n",
    "    new_image [\"Body\"] = random.choices(bodies, body_weights)[0]\n",
    "    new_image [\"Head\"] = random.choices(heads, head_weights)[0]\n",
    "    \n",
    "    if new_image in all_images:\n",
    "        return create_new_image()\n",
    "    else:\n",
    "        return new_image\n",
    "    \n",
    "    \n",
    "# Generate the unique combinations based on trait weightings\n",
    "for i in range(TOTAL_IMAGES): \n",
    "    \n",
    "    new_trait_image = create_new_image()\n",
    "    \n",
    "    all_images.append(new_trait_image)"
   ]
  },
  {
   "cell_type": "code",
   "execution_count": 4,
   "metadata": {},
   "outputs": [
    {
     "name": "stdout",
     "output_type": "stream",
     "text": [
      "Are all images unique? True\n"
     ]
    }
   ],
   "source": [
    "\n",
    "# Returns true if all images are unique\n",
    "def all_images_unique(all_images):\n",
    "    seen = list()\n",
    "    return not any(i in seen or seen.append(i) for i in all_images)\n",
    "\n",
    "print(\"Are all images unique?\", all_images_unique(all_images))"
   ]
  },
  {
   "cell_type": "code",
   "execution_count": 5,
   "metadata": {},
   "outputs": [],
   "source": [
    "# Add token Id to each image\n",
    "i = 0\n",
    "for item in all_images:\n",
    "    item[\"tokenId\"] = i\n",
    "    i = i + 1"
   ]
  },
  {
   "cell_type": "code",
   "execution_count": 6,
   "metadata": {},
   "outputs": [
    {
     "name": "stdout",
     "output_type": "stream",
     "text": [
      "[{'Background': 'Orange', 'Body': 'Japanese_Black', 'Head': 'StPatrick', 'tokenId': 0}, {'Background': 'Purple', 'Body': 'Japanese_Black', 'Head': 'Mario', 'tokenId': 1}, {'Background': 'Orange', 'Body': 'Golden_Bantam', 'Head': 'Mario', 'tokenId': 2}, {'Background': 'Blue', 'Body': 'Anasazi_Sweet', 'Head': 'Cowboy', 'tokenId': 3}, {'Background': 'Blue', 'Body': 'Golden_Bantam', 'Head': 'Cowboy', 'tokenId': 4}, {'Background': 'Orange', 'Body': 'Golden_Bantam', 'Head': 'Naruto', 'tokenId': 5}, {'Background': 'Purple', 'Body': 'Golden_Bantam', 'Head': 'Mario', 'tokenId': 6}, {'Background': 'Orange', 'Body': 'Golden_Bantam', 'Head': 'Pilgrim', 'tokenId': 7}, {'Background': 'Orange', 'Body': 'Japanese_Black', 'Head': 'Mario', 'tokenId': 8}, {'Background': 'Orange', 'Body': 'Japanese_Black', 'Head': 'Cowboy', 'tokenId': 9}, {'Background': 'Blue', 'Body': 'Tesuque_Blue', 'Head': 'Cowboy', 'tokenId': 10}, {'Background': 'Yellow', 'Body': 'Golden_Bantam', 'Head': 'Mario', 'tokenId': 11}, {'Background': 'Blue', 'Body': 'Tesuque_Blue', 'Head': 'StPatrick', 'tokenId': 12}, {'Background': 'Purple', 'Body': 'Golden_Bantam', 'Head': 'Naruto', 'tokenId': 13}, {'Background': 'Yellow', 'Body': 'Golden_Bantam', 'Head': 'Cowboy', 'tokenId': 14}, {'Background': 'Purple', 'Body': 'Golden_Bantam', 'Head': 'Cowboy', 'tokenId': 15}, {'Background': 'Blue', 'Body': 'Tesuque_Blue', 'Head': 'Mario', 'tokenId': 16}, {'Background': 'Yellow', 'Body': 'Japanese_Black', 'Head': 'Mario', 'tokenId': 17}, {'Background': 'Blue', 'Body': 'Tesuque_Blue', 'Head': 'Naruto', 'tokenId': 18}, {'Background': 'Blue', 'Body': 'Anasazi_Sweet', 'Head': 'Mario', 'tokenId': 19}, {'Background': 'Orange', 'Body': 'Japanese_Black', 'Head': 'Naruto', 'tokenId': 20}, {'Background': 'Blue', 'Body': 'Golden_Bantam', 'Head': 'Mario', 'tokenId': 21}, {'Background': 'Orange', 'Body': 'Anasazi_Sweet', 'Head': 'Mario', 'tokenId': 22}, {'Background': 'Yellow', 'Body': 'Japanese_Black', 'Head': 'Naruto', 'tokenId': 23}, {'Background': 'Purple', 'Body': 'Anasazi_Sweet', 'Head': 'Cowboy', 'tokenId': 24}, {'Background': 'Red', 'Body': 'Golden_Bantam', 'Head': 'Cowboy', 'tokenId': 25}, {'Background': 'Red', 'Body': 'Anasazi_Sweet', 'Head': 'Cowboy', 'tokenId': 26}, {'Background': 'Blue', 'Body': 'Japanese_Black', 'Head': 'Mario', 'tokenId': 27}, {'Background': 'Orange', 'Body': 'Golden_Bantam', 'Head': 'Cowboy', 'tokenId': 28}, {'Background': 'Yellow', 'Body': 'Anasazi_Sweet', 'Head': 'Mario', 'tokenId': 29}]\n"
     ]
    }
   ],
   "source": [
    "print(all_images)\n"
   ]
  },
  {
   "cell_type": "code",
   "execution_count": 7,
   "metadata": {},
   "outputs": [
    {
     "name": "stdout",
     "output_type": "stream",
     "text": [
      "{'Blue': 9, 'Orange': 9, 'Purple': 5, 'Red': 2, 'Yellow': 5}\n",
      "{'Anasazi_Sweet': 6, 'Golden_Bantam': 12, 'Japanese_Black': 8, 'Teosinte': 0, 'Tesuque_Blue': 4}\n",
      "{'Cowboy': 10, 'Mario': 12, 'Naruto': 5, 'Pilgrim': 1, 'StPatrick': 2}\n"
     ]
    }
   ],
   "source": [
    "\n",
    "# Get Trait Counts\n",
    "\n",
    "background_count = {}\n",
    "for item in background:\n",
    "    background_count[item] = 0\n",
    "    \n",
    "body_count = {}\n",
    "for item in bodies:\n",
    "    body_count[item] = 0\n",
    "\n",
    "head_count = {}\n",
    "for item in heads:\n",
    "    head_count[item] = 0\n",
    "\n",
    "for image in all_images:\n",
    "    background_count[image[\"Background\"]] += 1\n",
    "    body_count[image[\"Body\"]] += 1\n",
    "    head_count[image[\"Head\"]] += 1\n",
    "    \n",
    "print(background_count)\n",
    "print(body_count)\n",
    "print(head_count)"
   ]
  },
  {
   "cell_type": "code",
   "execution_count": 8,
   "metadata": {},
   "outputs": [],
   "source": [
    "#### Generate Metadata for all Traits \n",
    "METADATA_FILE_NAME = './metadata/all-traits.json'; \n",
    "with open(METADATA_FILE_NAME, 'w') as outfile:\n",
    "    json.dump(all_images, outfile, indent=4)"
   ]
  },
  {
   "cell_type": "code",
   "execution_count": 9,
   "metadata": {},
   "outputs": [],
   "source": [
    "#### Generate Images    \n",
    "for item in all_images:\n",
    "\n",
    "    im1 = Image.open(f'./trait-layers/backgrounds/{background_files[item[\"Background\"]]}.jpg').convert('RGBA')\n",
    "    im2 = Image.open(f'./trait-layers/bodies/{body_files[item[\"Body\"]]}.png').convert('RGBA')\n",
    "    im3 = Image.open(f'./trait-layers/heads/{head_files[item[\"Head\"]]}.png').convert('RGBA')\n",
    "\n",
    "    #Create each composite\n",
    "    com1 = Image.alpha_composite(im1, im2)\n",
    "    com2 = Image.alpha_composite(com1, im3)\n",
    "\n",
    "    #Convert to RGB\n",
    "    rgb_im = com2.convert('RGB')\n",
    "    file_name = str(item[\"tokenId\"]) + \".png\"\n",
    "    rgb_im.save(\"./images/\" + file_name)"
   ]
  },
  {
   "cell_type": "code",
   "execution_count": 10,
   "metadata": {},
   "outputs": [],
   "source": [
    "#### Generate Metadata for each Image    \n",
    "\n",
    "f = open('./metadata/all-traits.json',) \n",
    "data = json.load(f)\n",
    "\n",
    "\n",
    "IMAGES_BASE_URI = \"ADD_IMAGES_BASE_URI_HERE\"\n",
    "PROJECT_NAME = \"ADD_PROJECT_NAME_HERE\"\n",
    "\n",
    "def getAttribute(key, value):\n",
    "    return {\n",
    "        \"trait_type\": key,\n",
    "        \"value\": value\n",
    "    }\n",
    "for i in data:\n",
    "    token_id = i['tokenId']\n",
    "    token = {\n",
    "        \"image\": IMAGES_BASE_URI + str(token_id) + '.png',\n",
    "        \"tokenId\": token_id,\n",
    "        \"name\": PROJECT_NAME + ' ' + str(token_id),\n",
    "        \"attributes\": []\n",
    "    }\n",
    "    token[\"attributes\"].append(getAttribute(\"Background\", i[\"Background\"]))\n",
    "    token[\"attributes\"].append(getAttribute(\"Body\", i[\"Body\"]))\n",
    "    token[\"attributes\"].append(getAttribute(\"Head\", i[\"Head\"]))\n",
    "\n",
    "    with open('./metadata/' + str(token_id), 'w') as outfile:\n",
    "        json.dump(token, outfile, indent=4)\n",
    "f.close()"
   ]
  },
  {
   "cell_type": "code",
   "execution_count": null,
   "metadata": {},
   "outputs": [],
   "source": []
  }
 ],
 "metadata": {
  "kernelspec": {
   "display_name": "Python 3.9.6 64-bit",
   "language": "python",
   "name": "python396jvsc74a57bd0b0fa6594d8f4cbf19f97940f81e996739fb7646882a419484c72d19e05852a7e"
  },
  "language_info": {
   "codemirror_mode": {
    "name": "ipython",
    "version": 3
   },
   "file_extension": ".py",
   "mimetype": "text/x-python",
   "name": "python",
   "nbconvert_exporter": "python",
   "pygments_lexer": "ipython3",
   "version": "3.9.6"
  },
  "metadata": {
   "interpreter": {
    "hash": "b0fa6594d8f4cbf19f97940f81e996739fb7646882a419484c72d19e05852a7e"
   }
  }
 },
 "nbformat": 4,
 "nbformat_minor": 2
}
